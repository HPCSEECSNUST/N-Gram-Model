{
 "cells": [
  {
   "cell_type": "code",
   "execution_count": 1,
   "metadata": {},
   "outputs": [],
   "source": [
    "import nltk\n",
    "from nltk.util import ngrams\n",
    "from nltk.tokenize import word_tokenize\n",
    "from collections import Counter, defaultdict\n"
   ]
  },
  {
   "cell_type": "code",
   "execution_count": 2,
   "metadata": {},
   "outputs": [
    {
     "name": "stderr",
     "output_type": "stream",
     "text": [
      "[nltk_data] Downloading package punkt to\n",
      "[nltk_data]     C:\\Users\\mubas\\AppData\\Roaming\\nltk_data...\n",
      "[nltk_data]   Package punkt is already up-to-date!\n"
     ]
    }
   ],
   "source": [
    "# necessary NLTK data files\n",
    "nltk.download('punkt')\n",
    "\n",
    "def generate_ngrams(text, n):\n",
    "    # tokenize the text into words and generate n-grams\n",
    "    tokens = word_tokenize(text.lower())\n",
    "    n_grams = list(ngrams(tokens, n))\n",
    "    return n_grams"
   ]
  },
  {
   "cell_type": "code",
   "execution_count": 9,
   "metadata": {},
   "outputs": [
    {
     "ename": "NameError",
     "evalue": "name 'n_gram_probabilities' is not defined",
     "output_type": "error",
     "traceback": [
      "\u001b[1;31m---------------------------------------------------------------------------\u001b[0m",
      "\u001b[1;31mNameError\u001b[0m                                 Traceback (most recent call last)",
      "Cell \u001b[1;32mIn[9], line 15\u001b[0m\n\u001b[0;32m     12\u001b[0m         n_gram_probabilities[n_minus_1_gram][n_gram[\u001b[38;5;241m-\u001b[39m\u001b[38;5;241m1\u001b[39m]] \u001b[38;5;241m=\u001b[39m n_gram_counts[n_gram] \u001b[38;5;241m/\u001b[39m n_minus_1_gram_counts[n_minus_1_gram]\n\u001b[0;32m     14\u001b[0m     \u001b[38;5;28;01mreturn\u001b[39;00m n_gram_probabilities\n\u001b[1;32m---> 15\u001b[0m \u001b[38;5;28mprint\u001b[39m (\u001b[43mn_gram_probabilities\u001b[49m)\n",
      "\u001b[1;31mNameError\u001b[0m: name 'n_gram_probabilities' is not defined"
     ]
    }
   ],
   "source": [
    "def calculate_ngram_probabilities(text, n):\n",
    "    n_grams = generate_ngrams(text, n)\n",
    "    n_minus_1_grams = generate_ngrams(text, n-1)\n",
    "    \n",
    "    n_gram_counts = Counter(n_grams)\n",
    "    n_minus_1_gram_counts = Counter(n_minus_1_grams)\n",
    "    \n",
    "    n_gram_probabilities = defaultdict(dict)\n",
    "    \n",
    "    for n_gram in n_gram_counts:\n",
    "        n_minus_1_gram = n_gram[:-1]\n",
    "        n_gram_probabilities[n_minus_1_gram][n_gram[-1]] = n_gram_counts[n_gram] / n_minus_1_gram_counts[n_minus_1_gram]\n",
    "    \n",
    "    return n_gram_probabilities"
   ]
  },
  {
   "cell_type": "code",
   "execution_count": 5,
   "metadata": {},
   "outputs": [],
   "source": [
    "def predict_next_word(text, n, preceding_words):\n",
    "    n_gram_probabilities = calculate_ngram_probabilities(text, n)\n",
    "    preceding_tuple = tuple(preceding_words.lower().split()[-(n-1):])\n",
    "    \n",
    "    if preceding_tuple in n_gram_probabilities:\n",
    "        next_word = max(n_gram_probabilities[preceding_tuple], key=n_gram_probabilities[preceding_tuple].get)\n",
    "        return next_word, n_gram_probabilities[preceding_tuple][next_word]\n",
    "    else:\n",
    "        return None, 0.0"
   ]
  },
  {
   "cell_type": "code",
   "execution_count": null,
   "metadata": {},
   "outputs": [],
   "source": [
    "if __name__ == \"__main__\":\n",
    "    sample_text = \"I work in HPC Lab with my team members in the HPC Lab in the peaceful environment\"\n",
    "\n",
    "    next_word, probability = predict_next_word(sample_text, 2, \"HPC\")\n",
    "    print(f\"The word next to HPC is: {next_word}, with robability: {probability}\")\n",
    "\n",
    "    next_word, probability = predict_next_word(sample_text, 3, \"in the\")\n",
    "    print(f\"The word next to in the is: {next_word}, with probability: {probability}\")"
   ]
  }
 ],
 "metadata": {
  "kernelspec": {
   "display_name": "Python 3",
   "language": "python",
   "name": "python3"
  },
  "language_info": {
   "codemirror_mode": {
    "name": "ipython",
    "version": 3
   },
   "file_extension": ".py",
   "mimetype": "text/x-python",
   "name": "python",
   "nbconvert_exporter": "python",
   "pygments_lexer": "ipython3",
   "version": "3.12.1"
  }
 },
 "nbformat": 4,
 "nbformat_minor": 2
}
